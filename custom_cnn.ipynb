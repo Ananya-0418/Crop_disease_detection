{
 "cells": [
  {
   "cell_type": "code",
   "execution_count": 7,
   "metadata": {},
   "outputs": [],
   "source": [
    "import numpy as np\n",
    "from tensorflow.keras.preprocessing.image import ImageDataGenerator\n",
    "from keras.models import Sequential\n",
    "from keras.layers import Conv2D, MaxPooling2D, Flatten, Dense, Dropout\n",
    "from keras.optimizers import Adam\n",
    "import matplotlib.pyplot as plt"
   ]
  },
  {
   "cell_type": "code",
   "execution_count": 8,
   "metadata": {},
   "outputs": [],
   "source": [
    "image_size = (224, 224)\n",
    "batch_size = 32\n",
    "num_classes = 38  \n",
    "validation_split = 0.2"
   ]
  },
  {
   "cell_type": "code",
   "execution_count": 9,
   "metadata": {},
   "outputs": [],
   "source": [
    "train_dir = \"train\"  \n",
    "test_dir = \"test\""
   ]
  },
  {
   "cell_type": "code",
   "execution_count": 10,
   "metadata": {},
   "outputs": [
    {
     "name": "stdout",
     "output_type": "stream",
     "text": [
      "Found 17482 images belonging to 38 classes.\n"
     ]
    }
   ],
   "source": [
    "train_datagen = ImageDataGenerator(\n",
    "    rescale=1./255,\n",
    "    validation_split=validation_split,\n",
    "    shear_range=0.2,\n",
    "    zoom_range=0.2,\n",
    "    horizontal_flip=True\n",
    ")\n",
    "\n",
    "train_generator = train_datagen.flow_from_directory(\n",
    "    train_dir,\n",
    "    target_size=image_size,\n",
    "    batch_size=batch_size,\n",
    "    class_mode='categorical',\n",
    "    subset='training'  \n",
    ")"
   ]
  },
  {
   "cell_type": "code",
   "execution_count": 11,
   "metadata": {},
   "outputs": [
    {
     "name": "stdout",
     "output_type": "stream",
     "text": [
      "Found 17572 images belonging to 38 classes.\n"
     ]
    }
   ],
   "source": [
    "test_datagen = ImageDataGenerator(rescale=1./255)\n",
    "\n",
    "test_generator = test_datagen.flow_from_directory(\n",
    "    test_dir,\n",
    "    target_size=image_size,\n",
    "    batch_size=batch_size,\n",
    "    class_mode='categorical',\n",
    "    shuffle=False\n",
    ")"
   ]
  },
  {
   "cell_type": "code",
   "execution_count": 12,
   "metadata": {},
   "outputs": [
    {
     "name": "stderr",
     "output_type": "stream",
     "text": [
      "c:\\Users\\hp\\Downloads\\leafdataset\\.conda\\Lib\\site-packages\\keras\\src\\layers\\convolutional\\base_conv.py:99: UserWarning: Do not pass an `input_shape`/`input_dim` argument to a layer. When using Sequential models, prefer using an `Input(shape)` object as the first layer in the model instead.\n",
      "  super().__init__(\n"
     ]
    }
   ],
   "source": [
    "model = Sequential()\n",
    "model.add(Conv2D(32, (3, 3), activation='relu', input_shape=(224, 224, 3)))\n",
    "model.add(MaxPooling2D((2, 2)))\n",
    "model.add(Conv2D(64, (3, 3), activation='relu'))\n",
    "model.add(MaxPooling2D((2, 2)))\n",
    "model.add(Conv2D(128, (3, 3), activation='relu'))\n",
    "model.add(MaxPooling2D((2, 2)))\n",
    "model.add(Flatten())\n",
    "model.add(Dense(512, activation='relu'))\n",
    "model.add(Dropout(0.5))\n",
    "model.add(Dense(num_classes, activation='softmax'))"
   ]
  },
  {
   "cell_type": "code",
   "execution_count": 13,
   "metadata": {},
   "outputs": [],
   "source": [
    "opt = Adam(learning_rate=1e-3)\n",
    "model.compile(optimizer=opt, loss=\"categorical_crossentropy\", metrics=[\"accuracy\"])\n"
   ]
  },
  {
   "cell_type": "code",
   "execution_count": 10,
   "metadata": {},
   "outputs": [
    {
     "name": "stdout",
     "output_type": "stream",
     "text": [
      "Epoch 1/32\n"
     ]
    },
    {
     "name": "stderr",
     "output_type": "stream",
     "text": [
      "c:\\Users\\hp\\Downloads\\leafdataset\\.conda\\Lib\\site-packages\\keras\\src\\trainers\\data_adapters\\py_dataset_adapter.py:120: UserWarning: Your `PyDataset` class should call `super().__init__(**kwargs)` in its constructor. `**kwargs` can include `workers`, `use_multiprocessing`, `max_queue_size`. Do not pass these arguments to `fit()`, as they will be ignored.\n",
      "  self._warn_if_super_not_called()\n"
     ]
    },
    {
     "name": "stdout",
     "output_type": "stream",
     "text": [
      "\u001b[1m547/547\u001b[0m \u001b[32m━━━━━━━━━━━━━━━━━━━━\u001b[0m\u001b[37m\u001b[0m \u001b[1m1081s\u001b[0m 2s/step - accuracy: 0.2026 - loss: 2.9745 - val_accuracy: 0.6461 - val_loss: 1.1842\n",
      "Epoch 2/32\n",
      "\u001b[1m547/547\u001b[0m \u001b[32m━━━━━━━━━━━━━━━━━━━━\u001b[0m\u001b[37m\u001b[0m \u001b[1m0s\u001b[0m 259us/step - accuracy: 0.0000e+00 - loss: 0.0000e+00 - val_accuracy: 0.0000e+00 - val_loss: 0.0000e+00\n",
      "Epoch 3/32\n"
     ]
    },
    {
     "name": "stderr",
     "output_type": "stream",
     "text": [
      "c:\\Users\\hp\\Downloads\\leafdataset\\.conda\\Lib\\contextlib.py:158: UserWarning: Your input ran out of data; interrupting training. Make sure that your dataset or generator can generate at least `steps_per_epoch * epochs` batches. You may need to use the `.repeat()` function when building your dataset.\n",
      "  self.gen.throw(typ, value, traceback)\n"
     ]
    },
    {
     "name": "stdout",
     "output_type": "stream",
     "text": [
      "\u001b[1m547/547\u001b[0m \u001b[32m━━━━━━━━━━━━━━━━━━━━\u001b[0m\u001b[37m\u001b[0m \u001b[1m1092s\u001b[0m 2s/step - accuracy: 0.6174 - loss: 1.2549 - val_accuracy: 0.7314 - val_loss: 0.8671\n",
      "Epoch 4/32\n",
      "\u001b[1m547/547\u001b[0m \u001b[32m━━━━━━━━━━━━━━━━━━━━\u001b[0m\u001b[37m\u001b[0m \u001b[1m0s\u001b[0m 150us/step - accuracy: 0.0000e+00 - loss: 0.0000e+00 - val_accuracy: 0.0000e+00 - val_loss: 0.0000e+00\n",
      "Epoch 5/32\n",
      "\u001b[1m547/547\u001b[0m \u001b[32m━━━━━━━━━━━━━━━━━━━━\u001b[0m\u001b[37m\u001b[0m \u001b[1m1078s\u001b[0m 2s/step - accuracy: 0.7186 - loss: 0.8995 - val_accuracy: 0.7688 - val_loss: 0.7392\n",
      "Epoch 6/32\n",
      "\u001b[1m547/547\u001b[0m \u001b[32m━━━━━━━━━━━━━━━━━━━━\u001b[0m\u001b[37m\u001b[0m \u001b[1m0s\u001b[0m 81us/step - accuracy: 0.0000e+00 - loss: 0.0000e+00 - val_accuracy: 0.0000e+00 - val_loss: 0.0000e+00\n",
      "Epoch 7/32\n",
      "\u001b[1m547/547\u001b[0m \u001b[32m━━━━━━━━━━━━━━━━━━━━\u001b[0m\u001b[37m\u001b[0m \u001b[1m1047s\u001b[0m 2s/step - accuracy: 0.7847 - loss: 0.6874 - val_accuracy: 0.7914 - val_loss: 0.6645\n",
      "Epoch 8/32\n",
      "\u001b[1m547/547\u001b[0m \u001b[32m━━━━━━━━━━━━━━━━━━━━\u001b[0m\u001b[37m\u001b[0m \u001b[1m0s\u001b[0m 150us/step - accuracy: 0.0000e+00 - loss: 0.0000e+00 - val_accuracy: 0.0000e+00 - val_loss: 0.0000e+00\n",
      "Epoch 9/32\n",
      "\u001b[1m547/547\u001b[0m \u001b[32m━━━━━━━━━━━━━━━━━━━━\u001b[0m\u001b[37m\u001b[0m \u001b[1m1066s\u001b[0m 2s/step - accuracy: 0.8199 - loss: 0.5689 - val_accuracy: 0.8217 - val_loss: 0.5777\n",
      "Epoch 10/32\n",
      "\u001b[1m547/547\u001b[0m \u001b[32m━━━━━━━━━━━━━━━━━━━━\u001b[0m\u001b[37m\u001b[0m \u001b[1m0s\u001b[0m 77us/step - accuracy: 0.0000e+00 - loss: 0.0000e+00 - val_accuracy: 0.0000e+00 - val_loss: 0.0000e+00\n",
      "Epoch 11/32\n",
      "\u001b[1m547/547\u001b[0m \u001b[32m━━━━━━━━━━━━━━━━━━━━\u001b[0m\u001b[37m\u001b[0m \u001b[1m1096s\u001b[0m 2s/step - accuracy: 0.8472 - loss: 0.4733 - val_accuracy: 0.8404 - val_loss: 0.5102\n",
      "Epoch 12/32\n",
      "\u001b[1m547/547\u001b[0m \u001b[32m━━━━━━━━━━━━━━━━━━━━\u001b[0m\u001b[37m\u001b[0m \u001b[1m50s\u001b[0m 92ms/step - accuracy: 0.0000e+00 - loss: 0.0000e+00 - val_accuracy: 0.0000e+00 - val_loss: 0.0000e+00\n",
      "Epoch 13/32\n",
      "\u001b[1m547/547\u001b[0m \u001b[32m━━━━━━━━━━━━━━━━━━━━\u001b[0m\u001b[37m\u001b[0m \u001b[1m1027s\u001b[0m 2s/step - accuracy: 0.8620 - loss: 0.4179 - val_accuracy: 0.8696 - val_loss: 0.4159\n",
      "Epoch 14/32\n",
      "\u001b[1m547/547\u001b[0m \u001b[32m━━━━━━━━━━━━━━━━━━━━\u001b[0m\u001b[37m\u001b[0m \u001b[1m47s\u001b[0m 86ms/step - accuracy: 0.0000e+00 - loss: 0.0000e+00 - val_accuracy: 0.0000e+00 - val_loss: 0.0000e+00\n",
      "Epoch 15/32\n",
      "\u001b[1m547/547\u001b[0m \u001b[32m━━━━━━━━━━━━━━━━━━━━\u001b[0m\u001b[37m\u001b[0m \u001b[1m1051s\u001b[0m 2s/step - accuracy: 0.8820 - loss: 0.3603 - val_accuracy: 0.8747 - val_loss: 0.3958\n",
      "Epoch 16/32\n",
      "\u001b[1m547/547\u001b[0m \u001b[32m━━━━━━━━━━━━━━━━━━━━\u001b[0m\u001b[37m\u001b[0m \u001b[1m0s\u001b[0m 70us/step - accuracy: 0.0000e+00 - loss: 0.0000e+00 - val_accuracy: 0.0000e+00 - val_loss: 0.0000e+00\n",
      "Epoch 17/32\n",
      "\u001b[1m547/547\u001b[0m \u001b[32m━━━━━━━━━━━━━━━━━━━━\u001b[0m\u001b[37m\u001b[0m \u001b[1m1040s\u001b[0m 2s/step - accuracy: 0.8864 - loss: 0.3501 - val_accuracy: 0.8769 - val_loss: 0.3963\n",
      "Epoch 18/32\n",
      "\u001b[1m547/547\u001b[0m \u001b[32m━━━━━━━━━━━━━━━━━━━━\u001b[0m\u001b[37m\u001b[0m \u001b[1m0s\u001b[0m 63us/step - accuracy: 0.0000e+00 - loss: 0.0000e+00 - val_accuracy: 0.0000e+00 - val_loss: 0.0000e+00\n",
      "Epoch 19/32\n",
      "\u001b[1m547/547\u001b[0m \u001b[32m━━━━━━━━━━━━━━━━━━━━\u001b[0m\u001b[37m\u001b[0m \u001b[1m995s\u001b[0m 2s/step - accuracy: 0.9036 - loss: 0.2871 - val_accuracy: 0.8587 - val_loss: 0.4797\n",
      "Epoch 20/32\n",
      "\u001b[1m547/547\u001b[0m \u001b[32m━━━━━━━━━━━━━━━━━━━━\u001b[0m\u001b[37m\u001b[0m \u001b[1m0s\u001b[0m 152us/step - accuracy: 0.0000e+00 - loss: 0.0000e+00 - val_accuracy: 0.0000e+00 - val_loss: 0.0000e+00\n",
      "Epoch 21/32\n",
      "\u001b[1m547/547\u001b[0m \u001b[32m━━━━━━━━━━━━━━━━━━━━\u001b[0m\u001b[37m\u001b[0m \u001b[1m990s\u001b[0m 2s/step - accuracy: 0.9000 - loss: 0.3113 - val_accuracy: 0.8791 - val_loss: 0.4094\n",
      "Epoch 22/32\n",
      "\u001b[1m547/547\u001b[0m \u001b[32m━━━━━━━━━━━━━━━━━━━━\u001b[0m\u001b[37m\u001b[0m \u001b[1m0s\u001b[0m 109us/step - accuracy: 0.0000e+00 - loss: 0.0000e+00 - val_accuracy: 0.0000e+00 - val_loss: 0.0000e+00\n",
      "Epoch 23/32\n",
      "\u001b[1m547/547\u001b[0m \u001b[32m━━━━━━━━━━━━━━━━━━━━\u001b[0m\u001b[37m\u001b[0m \u001b[1m979s\u001b[0m 2s/step - accuracy: 0.9101 - loss: 0.2776 - val_accuracy: 0.8808 - val_loss: 0.3988\n",
      "Epoch 24/32\n",
      "\u001b[1m547/547\u001b[0m \u001b[32m━━━━━━━━━━━━━━━━━━━━\u001b[0m\u001b[37m\u001b[0m \u001b[1m0s\u001b[0m 82us/step - accuracy: 0.0000e+00 - loss: 0.0000e+00 - val_accuracy: 0.0000e+00 - val_loss: 0.0000e+00\n",
      "Epoch 25/32\n",
      "\u001b[1m547/547\u001b[0m \u001b[32m━━━━━━━━━━━━━━━━━━━━\u001b[0m\u001b[37m\u001b[0m \u001b[1m996s\u001b[0m 2s/step - accuracy: 0.9153 - loss: 0.2598 - val_accuracy: 0.9002 - val_loss: 0.3235\n",
      "Epoch 26/32\n",
      "\u001b[1m547/547\u001b[0m \u001b[32m━━━━━━━━━━━━━━━━━━━━\u001b[0m\u001b[37m\u001b[0m \u001b[1m0s\u001b[0m 171us/step - accuracy: 0.0000e+00 - loss: 0.0000e+00 - val_accuracy: 0.0000e+00 - val_loss: 0.0000e+00\n",
      "Epoch 27/32\n",
      "\u001b[1m547/547\u001b[0m \u001b[32m━━━━━━━━━━━━━━━━━━━━\u001b[0m\u001b[37m\u001b[0m \u001b[1m980s\u001b[0m 2s/step - accuracy: 0.9216 - loss: 0.2401 - val_accuracy: 0.8895 - val_loss: 0.3802\n",
      "Epoch 28/32\n",
      "\u001b[1m547/547\u001b[0m \u001b[32m━━━━━━━━━━━━━━━━━━━━\u001b[0m\u001b[37m\u001b[0m \u001b[1m0s\u001b[0m 122us/step - accuracy: 0.0000e+00 - loss: 0.0000e+00 - val_accuracy: 0.0000e+00 - val_loss: 0.0000e+00\n",
      "Epoch 29/32\n",
      "\u001b[1m547/547\u001b[0m \u001b[32m━━━━━━━━━━━━━━━━━━━━\u001b[0m\u001b[37m\u001b[0m \u001b[1m930s\u001b[0m 2s/step - accuracy: 0.9186 - loss: 0.2495 - val_accuracy: 0.8710 - val_loss: 0.4650\n",
      "Epoch 30/32\n",
      "\u001b[1m547/547\u001b[0m \u001b[32m━━━━━━━━━━━━━━━━━━━━\u001b[0m\u001b[37m\u001b[0m \u001b[1m0s\u001b[0m 93us/step - accuracy: 0.0000e+00 - loss: 0.0000e+00 - val_accuracy: 0.0000e+00 - val_loss: 0.0000e+00\n",
      "Epoch 31/32\n",
      "\u001b[1m547/547\u001b[0m \u001b[32m━━━━━━━━━━━━━━━━━━━━\u001b[0m\u001b[37m\u001b[0m \u001b[1m1013s\u001b[0m 2s/step - accuracy: 0.9298 - loss: 0.2237 - val_accuracy: 0.8717 - val_loss: 0.4394\n",
      "Epoch 32/32\n",
      "\u001b[1m547/547\u001b[0m \u001b[32m━━━━━━━━━━━━━━━━━━━━\u001b[0m\u001b[37m\u001b[0m \u001b[1m49s\u001b[0m 89ms/step - accuracy: 0.0000e+00 - loss: 0.0000e+00 - val_accuracy: 0.0000e+00 - val_loss: 0.0000e+00\n"
     ]
    }
   ],
   "source": [
    "try:\n",
    "    history = model.fit(\n",
    "        train_generator,\n",
    "        steps_per_epoch=len(train_generator),\n",
    "        epochs=32,\n",
    "        validation_data=test_generator,\n",
    "        validation_steps=len(test_generator)\n",
    "    )\n",
    "except Exception as e:\n",
    "    print(\"An error occurred during training:\", e)\n",
    "    raise  # Reraise the exception to get the full traceback                                                                                                        "
   ]
  },
  {
   "cell_type": "code",
   "execution_count": null,
   "metadata": {},
   "outputs": [],
   "source": []
  },
  {
   "cell_type": "code",
   "execution_count": 15,
   "metadata": {},
   "outputs": [
    {
     "name": "stdout",
     "output_type": "stream",
     "text": [
      "Epoch 1/60\n",
      "\u001b[1m547/547\u001b[0m \u001b[32m━━━━━━━━━━━━━━━━━━━━\u001b[0m\u001b[37m\u001b[0m \u001b[1m1723s\u001b[0m 3s/step - accuracy: 0.1944 - loss: 2.9323 - val_accuracy: 0.5863 - val_loss: 1.3447\n",
      "Epoch 2/60\n"
     ]
    },
    {
     "name": "stderr",
     "output_type": "stream",
     "text": [
      "c:\\Users\\hp\\Downloads\\leafdataset\\.conda\\Lib\\contextlib.py:158: UserWarning: Your input ran out of data; interrupting training. Make sure that your dataset or generator can generate at least `steps_per_epoch * epochs` batches. You may need to use the `.repeat()` function when building your dataset.\n",
      "  self.gen.throw(typ, value, traceback)\n"
     ]
    },
    {
     "name": "stdout",
     "output_type": "stream",
     "text": [
      "\u001b[1m547/547\u001b[0m \u001b[32m━━━━━━━━━━━━━━━━━━━━\u001b[0m\u001b[37m\u001b[0m \u001b[1m27s\u001b[0m 49ms/step - accuracy: 0.0000e+00 - loss: 0.0000e+00 - val_accuracy: 0.0000e+00 - val_loss: 0.0000e+00\n",
      "Epoch 3/60\n",
      "\u001b[1m547/547\u001b[0m \u001b[32m━━━━━━━━━━━━━━━━━━━━\u001b[0m\u001b[37m\u001b[0m \u001b[1m960s\u001b[0m 2s/step - accuracy: 0.5708 - loss: 1.3887 - val_accuracy: 0.6964 - val_loss: 1.0244\n",
      "Epoch 4/60\n",
      "\u001b[1m547/547\u001b[0m \u001b[32m━━━━━━━━━━━━━━━━━━━━\u001b[0m\u001b[37m\u001b[0m \u001b[1m0s\u001b[0m 83us/step - accuracy: 0.0000e+00 - loss: 0.0000e+00 - val_accuracy: 0.0000e+00 - val_loss: 0.0000e+00\n",
      "Epoch 5/60\n",
      "\u001b[1m547/547\u001b[0m \u001b[32m━━━━━━━━━━━━━━━━━━━━\u001b[0m\u001b[37m\u001b[0m \u001b[1m983s\u001b[0m 2s/step - accuracy: 0.6944 - loss: 0.9892 - val_accuracy: 0.7619 - val_loss: 0.7642\n",
      "Epoch 6/60\n",
      "\u001b[1m547/547\u001b[0m \u001b[32m━━━━━━━━━━━━━━━━━━━━\u001b[0m\u001b[37m\u001b[0m \u001b[1m0s\u001b[0m 154us/step - accuracy: 0.0000e+00 - loss: 0.0000e+00 - val_accuracy: 0.0000e+00 - val_loss: 0.0000e+00\n",
      "Epoch 7/60\n",
      "\u001b[1m547/547\u001b[0m \u001b[32m━━━━━━━━━━━━━━━━━━━━\u001b[0m\u001b[37m\u001b[0m \u001b[1m970s\u001b[0m 2s/step - accuracy: 0.7621 - loss: 0.7555 - val_accuracy: 0.7695 - val_loss: 0.7486\n",
      "Epoch 8/60\n",
      "\u001b[1m547/547\u001b[0m \u001b[32m━━━━━━━━━━━━━━━━━━━━\u001b[0m\u001b[37m\u001b[0m \u001b[1m0s\u001b[0m 165us/step - accuracy: 0.0000e+00 - loss: 0.0000e+00 - val_accuracy: 0.0000e+00 - val_loss: 0.0000e+00\n",
      "Epoch 9/60\n",
      "\u001b[1m547/547\u001b[0m \u001b[32m━━━━━━━━━━━━━━━━━━━━\u001b[0m\u001b[37m\u001b[0m \u001b[1m986s\u001b[0m 2s/step - accuracy: 0.7986 - loss: 0.6310 - val_accuracy: 0.8146 - val_loss: 0.5854\n",
      "Epoch 10/60\n",
      "\u001b[1m547/547\u001b[0m \u001b[32m━━━━━━━━━━━━━━━━━━━━\u001b[0m\u001b[37m\u001b[0m \u001b[1m0s\u001b[0m 192us/step - accuracy: 0.0000e+00 - loss: 0.0000e+00 - val_accuracy: 0.0000e+00 - val_loss: 0.0000e+00\n",
      "Epoch 11/60\n",
      "\u001b[1m547/547\u001b[0m \u001b[32m━━━━━━━━━━━━━━━━━━━━\u001b[0m\u001b[37m\u001b[0m \u001b[1m1007s\u001b[0m 2s/step - accuracy: 0.8142 - loss: 0.5835 - val_accuracy: 0.8107 - val_loss: 0.6100\n",
      "Epoch 12/60\n",
      "\u001b[1m547/547\u001b[0m \u001b[32m━━━━━━━━━━━━━━━━━━━━\u001b[0m\u001b[37m\u001b[0m \u001b[1m0s\u001b[0m 173us/step - accuracy: 0.0000e+00 - loss: 0.0000e+00 - val_accuracy: 0.0000e+00 - val_loss: 0.0000e+00\n",
      "Epoch 13/60\n",
      "\u001b[1m547/547\u001b[0m \u001b[32m━━━━━━━━━━━━━━━━━━━━\u001b[0m\u001b[37m\u001b[0m \u001b[1m934s\u001b[0m 2s/step - accuracy: 0.8361 - loss: 0.5031 - val_accuracy: 0.8099 - val_loss: 0.6300\n",
      "Epoch 14/60\n",
      "\u001b[1m547/547\u001b[0m \u001b[32m━━━━━━━━━━━━━━━━━━━━\u001b[0m\u001b[37m\u001b[0m \u001b[1m0s\u001b[0m 31us/step - accuracy: 0.0000e+00 - loss: 0.0000e+00 - val_accuracy: 0.0000e+00 - val_loss: 0.0000e+00\n",
      "Epoch 15/60\n",
      "\u001b[1m547/547\u001b[0m \u001b[32m━━━━━━━━━━━━━━━━━━━━\u001b[0m\u001b[37m\u001b[0m \u001b[1m931s\u001b[0m 2s/step - accuracy: 0.8544 - loss: 0.4386 - val_accuracy: 0.8325 - val_loss: 0.5448\n",
      "Epoch 16/60\n",
      "\u001b[1m547/547\u001b[0m \u001b[32m━━━━━━━━━━━━━━━━━━━━\u001b[0m\u001b[37m\u001b[0m \u001b[1m0s\u001b[0m 95us/step - accuracy: 0.0000e+00 - loss: 0.0000e+00 - val_accuracy: 0.0000e+00 - val_loss: 0.0000e+00\n",
      "Epoch 17/60\n",
      "\u001b[1m547/547\u001b[0m \u001b[32m━━━━━━━━━━━━━━━━━━━━\u001b[0m\u001b[37m\u001b[0m \u001b[1m1319s\u001b[0m 2s/step - accuracy: 0.8690 - loss: 0.4117 - val_accuracy: 0.8776 - val_loss: 0.3913\n",
      "Epoch 18/60\n",
      "\u001b[1m547/547\u001b[0m \u001b[32m━━━━━━━━━━━━━━━━━━━━\u001b[0m\u001b[37m\u001b[0m \u001b[1m0s\u001b[0m 28us/step - accuracy: 0.0000e+00 - loss: 0.0000e+00 - val_accuracy: 0.0000e+00 - val_loss: 0.0000e+00\n",
      "Epoch 19/60\n",
      "\u001b[1m547/547\u001b[0m \u001b[32m━━━━━━━━━━━━━━━━━━━━\u001b[0m\u001b[37m\u001b[0m \u001b[1m1160s\u001b[0m 2s/step - accuracy: 0.8736 - loss: 0.3910 - val_accuracy: 0.8212 - val_loss: 0.6491\n",
      "Epoch 20/60\n",
      "\u001b[1m547/547\u001b[0m \u001b[32m━━━━━━━━━━━━━━━━━━━━\u001b[0m\u001b[37m\u001b[0m \u001b[1m0s\u001b[0m 83us/step - accuracy: 0.0000e+00 - loss: 0.0000e+00 - val_accuracy: 0.0000e+00 - val_loss: 0.0000e+00\n",
      "Epoch 21/60\n",
      "\u001b[1m547/547\u001b[0m \u001b[32m━━━━━━━━━━━━━━━━━━━━\u001b[0m\u001b[37m\u001b[0m \u001b[1m973s\u001b[0m 2s/step - accuracy: 0.8937 - loss: 0.3321 - val_accuracy: 0.8519 - val_loss: 0.4851\n",
      "Epoch 22/60\n",
      "\u001b[1m547/547\u001b[0m \u001b[32m━━━━━━━━━━━━━━━━━━━━\u001b[0m\u001b[37m\u001b[0m \u001b[1m0s\u001b[0m 193us/step - accuracy: 0.0000e+00 - loss: 0.0000e+00 - val_accuracy: 0.0000e+00 - val_loss: 0.0000e+00\n",
      "Epoch 23/60\n",
      "\u001b[1m547/547\u001b[0m \u001b[32m━━━━━━━━━━━━━━━━━━━━\u001b[0m\u001b[37m\u001b[0m \u001b[1m592s\u001b[0m 1s/step - accuracy: 0.8993 - loss: 0.3139 - val_accuracy: 0.8712 - val_loss: 0.4406\n",
      "Epoch 24/60\n",
      "\u001b[1m547/547\u001b[0m \u001b[32m━━━━━━━━━━━━━━━━━━━━\u001b[0m\u001b[37m\u001b[0m \u001b[1m0s\u001b[0m 28us/step - accuracy: 0.0000e+00 - loss: 0.0000e+00 - val_accuracy: 0.0000e+00 - val_loss: 0.0000e+00\n",
      "Epoch 25/60\n",
      "\u001b[1m547/547\u001b[0m \u001b[32m━━━━━━━━━━━━━━━━━━━━\u001b[0m\u001b[37m\u001b[0m \u001b[1m482s\u001b[0m 879ms/step - accuracy: 0.9051 - loss: 0.2876 - val_accuracy: 0.8641 - val_loss: 0.4802\n",
      "Epoch 26/60\n",
      "\u001b[1m547/547\u001b[0m \u001b[32m━━━━━━━━━━━━━━━━━━━━\u001b[0m\u001b[37m\u001b[0m \u001b[1m0s\u001b[0m 29us/step - accuracy: 0.0000e+00 - loss: 0.0000e+00 - val_accuracy: 0.0000e+00 - val_loss: 0.0000e+00\n",
      "Epoch 27/60\n",
      "\u001b[1m547/547\u001b[0m \u001b[32m━━━━━━━━━━━━━━━━━━━━\u001b[0m\u001b[37m\u001b[0m \u001b[1m479s\u001b[0m 873ms/step - accuracy: 0.9178 - loss: 0.2597 - val_accuracy: 0.8753 - val_loss: 0.4326\n",
      "Epoch 28/60\n",
      "\u001b[1m547/547\u001b[0m \u001b[32m━━━━━━━━━━━━━━━━━━━━\u001b[0m\u001b[37m\u001b[0m \u001b[1m0s\u001b[0m 36us/step - accuracy: 0.0000e+00 - loss: 0.0000e+00 - val_accuracy: 0.0000e+00 - val_loss: 0.0000e+00\n",
      "Epoch 29/60\n",
      "\u001b[1m547/547\u001b[0m \u001b[32m━━━━━━━━━━━━━━━━━━━━\u001b[0m\u001b[37m\u001b[0m \u001b[1m482s\u001b[0m 878ms/step - accuracy: 0.9199 - loss: 0.2479 - val_accuracy: 0.8990 - val_loss: 0.3336\n",
      "Epoch 30/60\n",
      "\u001b[1m547/547\u001b[0m \u001b[32m━━━━━━━━━━━━━━━━━━━━\u001b[0m\u001b[37m\u001b[0m \u001b[1m0s\u001b[0m 28us/step - accuracy: 0.0000e+00 - loss: 0.0000e+00 - val_accuracy: 0.0000e+00 - val_loss: 0.0000e+00\n",
      "Epoch 31/60\n",
      "\u001b[1m547/547\u001b[0m \u001b[32m━━━━━━━━━━━━━━━━━━━━\u001b[0m\u001b[37m\u001b[0m \u001b[1m478s\u001b[0m 872ms/step - accuracy: 0.9223 - loss: 0.2453 - val_accuracy: 0.8795 - val_loss: 0.4199\n",
      "Epoch 32/60\n",
      "\u001b[1m547/547\u001b[0m \u001b[32m━━━━━━━━━━━━━━━━━━━━\u001b[0m\u001b[37m\u001b[0m \u001b[1m0s\u001b[0m 7us/step - accuracy: 0.0000e+00 - loss: 0.0000e+00 - val_accuracy: 0.0000e+00 - val_loss: 0.0000e+00\n",
      "Epoch 33/60\n",
      "\u001b[1m547/547\u001b[0m \u001b[32m━━━━━━━━━━━━━━━━━━━━\u001b[0m\u001b[37m\u001b[0m \u001b[1m482s\u001b[0m 879ms/step - accuracy: 0.9250 - loss: 0.2249 - val_accuracy: 0.8858 - val_loss: 0.4055\n",
      "Epoch 34/60\n",
      "\u001b[1m547/547\u001b[0m \u001b[32m━━━━━━━━━━━━━━━━━━━━\u001b[0m\u001b[37m\u001b[0m \u001b[1m0s\u001b[0m 30us/step - accuracy: 0.0000e+00 - loss: 0.0000e+00 - val_accuracy: 0.0000e+00 - val_loss: 0.0000e+00\n",
      "Epoch 35/60\n",
      "\u001b[1m547/547\u001b[0m \u001b[32m━━━━━━━━━━━━━━━━━━━━\u001b[0m\u001b[37m\u001b[0m \u001b[1m476s\u001b[0m 868ms/step - accuracy: 0.9294 - loss: 0.2238 - val_accuracy: 0.8751 - val_loss: 0.4584\n",
      "Epoch 36/60\n",
      "\u001b[1m547/547\u001b[0m \u001b[32m━━━━━━━━━━━━━━━━━━━━\u001b[0m\u001b[37m\u001b[0m \u001b[1m0s\u001b[0m 30us/step - accuracy: 0.0000e+00 - loss: 0.0000e+00 - val_accuracy: 0.0000e+00 - val_loss: 0.0000e+00\n",
      "Epoch 37/60\n",
      "\u001b[1m547/547\u001b[0m \u001b[32m━━━━━━━━━━━━━━━━━━━━\u001b[0m\u001b[37m\u001b[0m \u001b[1m497s\u001b[0m 905ms/step - accuracy: 0.9343 - loss: 0.2102 - val_accuracy: 0.9237 - val_loss: 0.2581\n",
      "Epoch 38/60\n",
      "\u001b[1m547/547\u001b[0m \u001b[32m━━━━━━━━━━━━━━━━━━━━\u001b[0m\u001b[37m\u001b[0m \u001b[1m0s\u001b[0m 23us/step - accuracy: 0.0000e+00 - loss: 0.0000e+00 - val_accuracy: 0.0000e+00 - val_loss: 0.0000e+00\n",
      "Epoch 39/60\n",
      "\u001b[1m547/547\u001b[0m \u001b[32m━━━━━━━━━━━━━━━━━━━━\u001b[0m\u001b[37m\u001b[0m \u001b[1m514s\u001b[0m 937ms/step - accuracy: 0.9377 - loss: 0.1929 - val_accuracy: 0.8983 - val_loss: 0.3950\n",
      "Epoch 40/60\n",
      "\u001b[1m547/547\u001b[0m \u001b[32m━━━━━━━━━━━━━━━━━━━━\u001b[0m\u001b[37m\u001b[0m \u001b[1m0s\u001b[0m 29us/step - accuracy: 0.0000e+00 - loss: 0.0000e+00 - val_accuracy: 0.0000e+00 - val_loss: 0.0000e+00\n",
      "Epoch 41/60\n",
      "\u001b[1m547/547\u001b[0m \u001b[32m━━━━━━━━━━━━━━━━━━━━\u001b[0m\u001b[37m\u001b[0m \u001b[1m487s\u001b[0m 887ms/step - accuracy: 0.9360 - loss: 0.2010 - val_accuracy: 0.8753 - val_loss: 0.4870\n",
      "Epoch 42/60\n",
      "\u001b[1m547/547\u001b[0m \u001b[32m━━━━━━━━━━━━━━━━━━━━\u001b[0m\u001b[37m\u001b[0m \u001b[1m0s\u001b[0m 34us/step - accuracy: 0.0000e+00 - loss: 0.0000e+00 - val_accuracy: 0.0000e+00 - val_loss: 0.0000e+00\n",
      "Epoch 43/60\n",
      "\u001b[1m547/547\u001b[0m \u001b[32m━━━━━━━━━━━━━━━━━━━━\u001b[0m\u001b[37m\u001b[0m \u001b[1m492s\u001b[0m 896ms/step - accuracy: 0.9424 - loss: 0.1890 - val_accuracy: 0.8940 - val_loss: 0.4014\n",
      "Epoch 44/60\n",
      "\u001b[1m547/547\u001b[0m \u001b[32m━━━━━━━━━━━━━━━━━━━━\u001b[0m\u001b[37m\u001b[0m \u001b[1m0s\u001b[0m 13us/step - accuracy: 0.0000e+00 - loss: 0.0000e+00 - val_accuracy: 0.0000e+00 - val_loss: 0.0000e+00\n",
      "Epoch 45/60\n",
      "\u001b[1m547/547\u001b[0m \u001b[32m━━━━━━━━━━━━━━━━━━━━\u001b[0m\u001b[37m\u001b[0m \u001b[1m503s\u001b[0m 917ms/step - accuracy: 0.9352 - loss: 0.2016 - val_accuracy: 0.9042 - val_loss: 0.3474\n",
      "Epoch 46/60\n",
      "\u001b[1m547/547\u001b[0m \u001b[32m━━━━━━━━━━━━━━━━━━━━\u001b[0m\u001b[37m\u001b[0m \u001b[1m0s\u001b[0m 47us/step - accuracy: 0.0000e+00 - loss: 0.0000e+00 - val_accuracy: 0.0000e+00 - val_loss: 0.0000e+00\n",
      "Epoch 47/60\n",
      "\u001b[1m547/547\u001b[0m \u001b[32m━━━━━━━━━━━━━━━━━━━━\u001b[0m\u001b[37m\u001b[0m \u001b[1m507s\u001b[0m 924ms/step - accuracy: 0.9441 - loss: 0.1753 - val_accuracy: 0.8904 - val_loss: 0.4027\n",
      "Epoch 48/60\n",
      "\u001b[1m547/547\u001b[0m \u001b[32m━━━━━━━━━━━━━━━━━━━━\u001b[0m\u001b[37m\u001b[0m \u001b[1m0s\u001b[0m 30us/step - accuracy: 0.0000e+00 - loss: 0.0000e+00 - val_accuracy: 0.0000e+00 - val_loss: 0.0000e+00\n",
      "Epoch 49/60\n",
      "\u001b[1m547/547\u001b[0m \u001b[32m━━━━━━━━━━━━━━━━━━━━\u001b[0m\u001b[37m\u001b[0m \u001b[1m509s\u001b[0m 928ms/step - accuracy: 0.9420 - loss: 0.1753 - val_accuracy: 0.9056 - val_loss: 0.3208\n",
      "Epoch 50/60\n",
      "\u001b[1m547/547\u001b[0m \u001b[32m━━━━━━━━━━━━━━━━━━━━\u001b[0m\u001b[37m\u001b[0m \u001b[1m0s\u001b[0m 42us/step - accuracy: 0.0000e+00 - loss: 0.0000e+00 - val_accuracy: 0.0000e+00 - val_loss: 0.0000e+00\n",
      "Epoch 51/60\n",
      "\u001b[1m547/547\u001b[0m \u001b[32m━━━━━━━━━━━━━━━━━━━━\u001b[0m\u001b[37m\u001b[0m \u001b[1m1043s\u001b[0m 2s/step - accuracy: 0.9517 - loss: 0.1498 - val_accuracy: 0.9178 - val_loss: 0.3063\n",
      "Epoch 52/60\n",
      "\u001b[1m547/547\u001b[0m \u001b[32m━━━━━━━━━━━━━━━━━━━━\u001b[0m\u001b[37m\u001b[0m \u001b[1m0s\u001b[0m 97us/step - accuracy: 0.0000e+00 - loss: 0.0000e+00 - val_accuracy: 0.0000e+00 - val_loss: 0.0000e+00\n",
      "Epoch 53/60\n",
      "\u001b[1m547/547\u001b[0m \u001b[32m━━━━━━━━━━━━━━━━━━━━\u001b[0m\u001b[37m\u001b[0m \u001b[1m1028s\u001b[0m 2s/step - accuracy: 0.9463 - loss: 0.1673 - val_accuracy: 0.8722 - val_loss: 0.5131\n",
      "Epoch 54/60\n",
      "\u001b[1m547/547\u001b[0m \u001b[32m━━━━━━━━━━━━━━━━━━━━\u001b[0m\u001b[37m\u001b[0m \u001b[1m0s\u001b[0m 82us/step - accuracy: 0.0000e+00 - loss: 0.0000e+00 - val_accuracy: 0.0000e+00 - val_loss: 0.0000e+00\n",
      "Epoch 55/60\n",
      "\u001b[1m547/547\u001b[0m \u001b[32m━━━━━━━━━━━━━━━━━━━━\u001b[0m\u001b[37m\u001b[0m \u001b[1m1006s\u001b[0m 2s/step - accuracy: 0.9527 - loss: 0.1484 - val_accuracy: 0.9106 - val_loss: 0.3406\n",
      "Epoch 56/60\n",
      "\u001b[1m547/547\u001b[0m \u001b[32m━━━━━━━━━━━━━━━━━━━━\u001b[0m\u001b[37m\u001b[0m \u001b[1m0s\u001b[0m 125us/step - accuracy: 0.0000e+00 - loss: 0.0000e+00 - val_accuracy: 0.0000e+00 - val_loss: 0.0000e+00\n",
      "Epoch 57/60\n",
      "\u001b[1m547/547\u001b[0m \u001b[32m━━━━━━━━━━━━━━━━━━━━\u001b[0m\u001b[37m\u001b[0m \u001b[1m990s\u001b[0m 2s/step - accuracy: 0.9494 - loss: 0.1585 - val_accuracy: 0.9179 - val_loss: 0.3269\n",
      "Epoch 58/60\n",
      "\u001b[1m547/547\u001b[0m \u001b[32m━━━━━━━━━━━━━━━━━━━━\u001b[0m\u001b[37m\u001b[0m \u001b[1m0s\u001b[0m 183us/step - accuracy: 0.0000e+00 - loss: 0.0000e+00 - val_accuracy: 0.0000e+00 - val_loss: 0.0000e+00\n",
      "Epoch 59/60\n",
      "\u001b[1m547/547\u001b[0m \u001b[32m━━━━━━━━━━━━━━━━━━━━\u001b[0m\u001b[37m\u001b[0m \u001b[1m967s\u001b[0m 2s/step - accuracy: 0.9509 - loss: 0.1498 - val_accuracy: 0.9031 - val_loss: 0.3731\n",
      "Epoch 60/60\n",
      "\u001b[1m547/547\u001b[0m \u001b[32m━━━━━━━━━━━━━━━━━━━━\u001b[0m\u001b[37m\u001b[0m \u001b[1m0s\u001b[0m 82us/step - accuracy: 0.0000e+00 - loss: 0.0000e+00 - val_accuracy: 0.0000e+00 - val_loss: 0.0000e+00\n"
     ]
    }
   ],
   "source": [
    "# Train the model with error handling\n",
    "try:\n",
    "    history = model.fit(\n",
    "        train_generator,\n",
    "        steps_per_epoch=len(train_generator),\n",
    "        epochs=60,  # Change this to the desired number of epochs\n",
    "        validation_data=test_generator,\n",
    "        validation_steps=len(test_generator)\n",
    "    )\n",
    "except Exception as e:\n",
    "    print(\"An error occurred during training:\", e)\n",
    "    raise  # Reraise the exception to get the full traceback\n"
   ]
  },
  {
   "cell_type": "code",
   "execution_count": 59,
   "metadata": {},
   "outputs": [
    {
     "name": "stdout",
     "output_type": "stream",
     "text": [
      "Epoch 1/10\n",
      "\u001b[1m547/547\u001b[0m \u001b[32m━━━━━━━━━━━━━━━━━━━━\u001b[0m\u001b[37m\u001b[0m \u001b[1m666s\u001b[0m 1s/step - accuracy: 0.9545 - loss: 0.1476 - val_accuracy: 0.9079 - val_loss: 0.4174\n",
      "Epoch 2/10\n",
      "\u001b[1m547/547\u001b[0m \u001b[32m━━━━━━━━━━━━━━━━━━━━\u001b[0m\u001b[37m\u001b[0m \u001b[1m0s\u001b[0m 106us/step - accuracy: 0.0000e+00 - loss: 0.0000e+00 - val_accuracy: 0.0000e+00 - val_loss: 0.0000e+00\n",
      "Epoch 3/10\n"
     ]
    },
    {
     "name": "stderr",
     "output_type": "stream",
     "text": [
      "c:\\Users\\hp\\Downloads\\leafdataset\\.conda\\Lib\\contextlib.py:158: UserWarning: Your input ran out of data; interrupting training. Make sure that your dataset or generator can generate at least `steps_per_epoch * epochs` batches. You may need to use the `.repeat()` function when building your dataset.\n",
      "  self.gen.throw(typ, value, traceback)\n"
     ]
    },
    {
     "name": "stdout",
     "output_type": "stream",
     "text": [
      "\u001b[1m547/547\u001b[0m \u001b[32m━━━━━━━━━━━━━━━━━━━━\u001b[0m\u001b[37m\u001b[0m \u001b[1m493s\u001b[0m 898ms/step - accuracy: 0.9588 - loss: 0.1378 - val_accuracy: 0.8424 - val_loss: 0.8623\n",
      "Epoch 4/10\n",
      "\u001b[1m547/547\u001b[0m \u001b[32m━━━━━━━━━━━━━━━━━━━━\u001b[0m\u001b[37m\u001b[0m \u001b[1m0s\u001b[0m 65us/step - accuracy: 0.0000e+00 - loss: 0.0000e+00 - val_accuracy: 0.0000e+00 - val_loss: 0.0000e+00\n",
      "Epoch 5/10\n",
      "\u001b[1m547/547\u001b[0m \u001b[32m━━━━━━━━━━━━━━━━━━━━\u001b[0m\u001b[37m\u001b[0m \u001b[1m557s\u001b[0m 1s/step - accuracy: 0.9596 - loss: 0.1398 - val_accuracy: 0.9089 - val_loss: 0.4975\n",
      "Epoch 6/10\n",
      "\u001b[1m547/547\u001b[0m \u001b[32m━━━━━━━━━━━━━━━━━━━━\u001b[0m\u001b[37m\u001b[0m \u001b[1m0s\u001b[0m 65us/step - accuracy: 0.0000e+00 - loss: 0.0000e+00 - val_accuracy: 0.0000e+00 - val_loss: 0.0000e+00\n",
      "Epoch 7/10\n",
      "\u001b[1m547/547\u001b[0m \u001b[32m━━━━━━━━━━━━━━━━━━━━\u001b[0m\u001b[37m\u001b[0m \u001b[1m872s\u001b[0m 2s/step - accuracy: 0.9612 - loss: 0.1359 - val_accuracy: 0.9171 - val_loss: 0.4250\n",
      "Epoch 8/10\n",
      "\u001b[1m547/547\u001b[0m \u001b[32m━━━━━━━━━━━━━━━━━━━━\u001b[0m\u001b[37m\u001b[0m \u001b[1m0s\u001b[0m 103us/step - accuracy: 0.0000e+00 - loss: 0.0000e+00 - val_accuracy: 0.0000e+00 - val_loss: 0.0000e+00\n",
      "Epoch 9/10\n",
      "\u001b[1m547/547\u001b[0m \u001b[32m━━━━━━━━━━━━━━━━━━━━\u001b[0m\u001b[37m\u001b[0m \u001b[1m996s\u001b[0m 2s/step - accuracy: 0.9604 - loss: 0.1587 - val_accuracy: 0.9144 - val_loss: 0.4747\n",
      "Epoch 10/10\n",
      "\u001b[1m547/547\u001b[0m \u001b[32m━━━━━━━━━━━━━━━━━━━━\u001b[0m\u001b[37m\u001b[0m \u001b[1m0s\u001b[0m 209us/step - accuracy: 0.0000e+00 - loss: 0.0000e+00 - val_accuracy: 0.0000e+00 - val_loss: 0.0000e+00\n"
     ]
    }
   ],
   "source": [
    "# Train the model with error handling\n",
    "try:\n",
    "    history = model.fit(\n",
    "        train_generator,\n",
    "        steps_per_epoch=len(train_generator),\n",
    "        epochs=10,  # Change this to the desired number of epochs\n",
    "        validation_data=test_generator,\n",
    "        validation_steps=len(test_generator)\n",
    "    )\n",
    "except Exception as e:\n",
    "    print(\"An error occurred during training:\", e)\n",
    "    raise  # Reraise the exception to get the full traceback"
   ]
  },
  {
   "cell_type": "code",
   "execution_count": 60,
   "metadata": {},
   "outputs": [
    {
     "name": "stdout",
     "output_type": "stream",
     "text": [
      "\u001b[1m550/550\u001b[0m \u001b[32m━━━━━━━━━━━━━━━━━━━━\u001b[0m\u001b[37m\u001b[0m \u001b[1m151s\u001b[0m 275ms/step - accuracy: 0.9320 - loss: 0.3639\n",
      "Test Accuracy: 0.9143523573875427\n"
     ]
    }
   ],
   "source": [
    "# Evaluate the model on the test data\n",
    "loss, accuracy = model.evaluate(test_generator)\n",
    "# Print the accuracy\n",
    "print(\"Test Accuracy:\", accuracy)"
   ]
  },
  {
   "cell_type": "code",
   "execution_count": 69,
   "metadata": {},
   "outputs": [
    {
     "name": "stdout",
     "output_type": "stream",
     "text": [
      "Test Accuracy for Custom CNN : 91.43523573875427\n"
     ]
    }
   ],
   "source": [
    "print(\"Test Accuracy for Custom CNN :\", accuracy*100)"
   ]
  },
  {
   "cell_type": "code",
   "execution_count": 27,
   "metadata": {},
   "outputs": [
    {
     "name": "stdout",
     "output_type": "stream",
     "text": [
      "Model saved successfully at saved_models/model.keras\n"
     ]
    }
   ],
   "source": [
    "\n",
    "model_path = \"saved_models/model.keras\"\n",
    "model.save(model_path)\n",
    "print(\"Model saved successfully at\", model_path)\n"
   ]
  },
  {
   "cell_type": "code",
   "execution_count": 21,
   "metadata": {},
   "outputs": [],
   "source": [
    "# Compile the loaded model with desired metrics\n",
    "loaded_model.compile(optimizer='adam', loss='categorical_crossentropy', metrics=['accuracy'])"
   ]
  },
  {
   "cell_type": "code",
   "execution_count": 29,
   "metadata": {},
   "outputs": [
    {
     "name": "stderr",
     "output_type": "stream",
     "text": [
      "c:\\Users\\hp\\Downloads\\leafdataset\\.conda\\Lib\\site-packages\\keras\\src\\saving\\saving_lib.py:418: UserWarning: Skipping variable loading for optimizer 'rmsprop', because it has 12 variables whereas the saved optimizer has 22 variables. \n",
      "  trackable.load_own_variables(weights_store.get(inner_path))\n"
     ]
    }
   ],
   "source": [
    "from keras.models import load_model\n",
    "# Load the model\n",
    "model = load_model('saved_models/model.keras')\n",
    "# Compile the model\n",
    "model.compile(optimizer='adam', loss='sparse_categorical_crossentropy', metrics=['accuracy'])\n"
   ]
  },
  {
   "cell_type": "code",
   "execution_count": 31,
   "metadata": {},
   "outputs": [],
   "source": [
    "test_dir = 'images_for_test'  "
   ]
  },
  {
   "cell_type": "code",
   "execution_count": 39,
   "metadata": {},
   "outputs": [
    {
     "name": "stdout",
     "output_type": "stream",
     "text": [
      "It's a file.\n"
     ]
    }
   ],
   "source": [
    "import os\n",
    "\n",
    "# Your directory or file path\n",
    "path = r'C:\\Users\\hp\\Downloads\\leafdataset\\test\\Apple___Black_rot\\0b8dabb7-5f1b-4fdc-b3fa-30b289707b90___JR_FrgE.S 3047_90deg.JPG'\n",
    "\n",
    "# Check if it's a directory\n",
    "if os.path.isdir(path):\n",
    "    print(\"It's a directory.\")\n",
    "elif os.path.isfile(path):\n",
    "    print(\"It's a file.\")\n",
    "else:\n",
    "    print(\"It's neither a directory nor a file.\")\n"
   ]
  },
  {
   "cell_type": "code",
   "execution_count": 52,
   "metadata": {},
   "outputs": [],
   "source": [
    "# Define your class labels\n",
    "class_labels = {\n",
    "    0: \"Apple___Apple_scab\",\n",
    "    1: \"Apple___Black_rot\",\n",
    "    2: \"Apple___Cedar_apple_rust\",\n",
    "    3: \"Apple___healthy\",\n",
    "    4: \"Blueberry___healthy\",\n",
    "    5: \"Cherry_(including_sour)___healthy\",\n",
    "    6: \"Cherry_(including_sour)___Powdery_mildew\",\n",
    "    7: \"Corn_(maize)___Cercospora_leaf_spot Gray_leaf_spot\",\n",
    "    8: \"Corn_(maize)___Common_rust\",\n",
    "    9: \"Corn_(maize)___healthy\",\n",
    "    10: \"Corn_(maize)___Northern_Leaf_Blight\",\n",
    "    11: \"Grape___Black_rot\",\n",
    "    12: \"Grape___Esca_(Black_Measles)\",\n",
    "    13: \"Grape___healthy\",\n",
    "    14: \"Grape___Leaf_blight_(Isariopsis_Leaf_Spot)\",\n",
    "    15: \"Orange___Haunglongbing_(Citrus_greening)\",\n",
    "    16: \"Peach___Bacterial_spot\",\n",
    "    17: \"Peach___healthy\",\n",
    "    18: \"Pepper,_bell___Bacterial_spot\",\n",
    "    19: \"Pepper,_bell___healthy\",\n",
    "    20: \"Potato___Early_blight\",\n",
    "    21: \"Potato___healthy\",\n",
    "    22: \"Potato___Late_blight\",\n",
    "    23: \"Raspberry___healthy\",\n",
    "    24: \"Soybean___healthy\",\n",
    "    25: \"Squash___Powdery_mildew\",\n",
    "    26: \"Strawberry___healthy\",\n",
    "    27: \"Strawberry___Leaf_scorch\",\n",
    "    28: \"Tomato___Bacterial_spot\",\n",
    "    29: \"Tomato___Early_blight\",\n",
    "    30: \"Tomato___healthy\",\n",
    "    31: \"Tomato___Late_blight\",\n",
    "    32: \"Tomato___Leaf_Mold\",\n",
    "    33: \"Tomato___Septoria_leaf_spot\",\n",
    "    34: \"Tomato___Spider_mites Two-spotted_spider_mite\",\n",
    "    35: \"Tomato___Target_Spot\",\n",
    "    36: \"Tomato___Tomato_mosaic_virus\",\n",
    "    37: \"Tomato___Tomato_Yellow_Leaf_Curl_Virus\"\n",
    "}\n",
    "\n"
   ]
  },
  {
   "cell_type": "code",
   "execution_count": 62,
   "metadata": {},
   "outputs": [
    {
     "name": "stdout",
     "output_type": "stream",
     "text": [
      "\u001b[1m1/1\u001b[0m \u001b[32m━━━━━━━━━━━━━━━━━━━━\u001b[0m\u001b[37m\u001b[0m \u001b[1m0s\u001b[0m 84ms/step\n"
     ]
    }
   ],
   "source": [
    "from keras.models import load_model\n",
    "from keras.preprocessing import image\n",
    "import numpy as np\n",
    "\n",
    "# Load the saved model\n",
    "model = load_model('saved_models/model.keras')\n",
    "\n",
    "# File path of the image to test\n",
    "image_file = r'images_for_test\\AppleCedarRust2.JPG'\n",
    "\n",
    "img = image.load_img(image_file, target_size=(224, 224))\n",
    "img_array = image.img_to_array(img)\n",
    "img_array = img_array / 255.0  \n",
    "img_array = np.expand_dims(img_array, axis=0)  \n",
    "\n",
    "prediction = model.predict(img_array)\n",
    "predicted_class = np.argmax(prediction)\n"
   ]
  },
  {
   "cell_type": "code",
   "execution_count": 63,
   "metadata": {},
   "outputs": [
    {
     "name": "stdout",
     "output_type": "stream",
     "text": [
      "Predicted class: Apple___Cedar_apple_rust\n"
     ]
    }
   ],
   "source": [
    "predicted_label = class_labels.get(predicted_class)\n",
    "\n",
    "if predicted_label is not None:\n",
    "    print(\"Predicted class:\", predicted_label)\n",
    "else:\n",
    "    print(\"Unknown class index:\", predicted_class)"
   ]
  },
  {
   "cell_type": "code",
   "execution_count": 66,
   "metadata": {},
   "outputs": [
    {
     "name": "stdout",
     "output_type": "stream",
     "text": [
      "\u001b[1m550/550\u001b[0m \u001b[32m━━━━━━━━━━━━━━━━━━━━\u001b[0m\u001b[37m\u001b[0m \u001b[1m161s\u001b[0m 292ms/step\n",
      "Precision: 0.9239009893554656\n",
      "Recall: 0.9203277942180742\n",
      "F1 Score: 0.919757163335034\n",
      "Confusion Matrix:\n",
      " [[467   7   0 ...   0   0   0]\n",
      " [  5 485   0 ...   0   0   0]\n",
      " [  0   0 430 ...   0   0   0]\n",
      " ...\n",
      " [  0   0   0 ... 436   0   0]\n",
      " [  0   0   0 ...   0 443   0]\n",
      " [  0   0   1 ...   0   0 470]]\n"
     ]
    }
   ],
   "source": [
    "from sklearn.metrics import precision_score, recall_score, f1_score, confusion_matrix\n",
    "\n",
    "# Get true labels from the test generator\n",
    "y_true = test_generator.classes\n",
    "\n",
    "# Assuming your model predicts probabilities for each class\n",
    "y_prob = model.predict(test_generator)\n",
    "\n",
    "# Convert probabilities to class labels\n",
    "y_pred = np.argmax(y_prob, axis=1)\n",
    "\n",
    "# Compute precision, recall, and F1 score\n",
    "precision = precision_score(y_true, y_pred, average='weighted')\n",
    "recall = recall_score(y_true, y_pred, average='weighted')\n",
    "f1 = f1_score(y_true, y_pred, average='weighted')\n",
    "conf_matrix = confusion_matrix(y_true, y_pred)\n",
    "\n",
    "print(\"Precision:\", precision)\n",
    "print(\"Recall:\", recall)\n",
    "print(\"F1 Score:\", f1)\n",
    "print(\"Confusion Matrix:\\n\", conf_matrix)\n"
   ]
  },
  {
   "cell_type": "code",
   "execution_count": 77,
   "metadata": {},
   "outputs": [
    {
     "data": {
      "image/png": "[encoded data removed]",
      "text/plain": [
       "<Figure size 640x480 with 1 Axes>"
      ]
     },
     "metadata": {},
     "output_type": "display_data"
    }
   ],
   "source": [
    "import matplotlib.pyplot as plt\n",
    "\n",
    "# Define the epoch data\n",
    "epoch_data = [\n",
    "    {'accuracy': 0.2026, 'loss': 2.9745, 'val_accuracy': 0.6461, 'val_loss': 1.1842},\n",
    "    {'accuracy': 0.0, 'loss': 0.0, 'val_accuracy': 0.0, 'val_loss': 0.0},\n",
    "    {'accuracy': 0.6174, 'loss': 1.2549, 'val_accuracy': 0.7314, 'val_loss': 0.8671},\n",
    "    {'accuracy': 0.0, 'loss': 0.0, 'val_accuracy': 0.0, 'val_loss': 0.0},\n",
    "    {'accuracy': 0.7186, 'loss': 0.8995, 'val_accuracy': 0.7688, 'val_loss': 0.7392},\n",
    "    {'accuracy': 0.0, 'loss': 0.0, 'val_accuracy': 0.0, 'val_loss': 0.0},\n",
    "    {'accuracy': 0.7847, 'loss': 0.6874, 'val_accuracy': 0.7914, 'val_loss': 0.6645},\n",
    "    {'accuracy': 0.0, 'loss': 0.0, 'val_accuracy': 0.0, 'val_loss': 0.0},\n",
    "    {'accuracy': 0.8199, 'loss': 0.5689, 'val_accuracy': 0.8217, 'val_loss': 0.5777},\n",
    "    {'accuracy': 0.0, 'loss': 0.0, 'val_accuracy': 0.0, 'val_loss': 0.0},\n",
    "    {'accuracy': 0.8472, 'loss': 0.4733, 'val_accuracy': 0.8404, 'val_loss': 0.5102},\n",
    "    {'accuracy': 0.0, 'loss': 0.0, 'val_accuracy': 0.0, 'val_loss': 0.0},\n",
    "    {'accuracy': 0.8620, 'loss': 0.4179, 'val_accuracy': 0.8696, 'val_loss': 0.4159},\n",
    "    {'accuracy': 0.0, 'loss': 0.0, 'val_accuracy': 0.0, 'val_loss': 0.0},\n",
    "    {'accuracy': 0.8820, 'loss': 0.3603, 'val_accuracy': 0.8747, 'val_loss': 0.3958},\n",
    "    {'accuracy': 0.0, 'loss': 0.0, 'val_accuracy': 0.0, 'val_loss': 0.0},\n",
    "    {'accuracy': 0.8864, 'loss': 0.3501, 'val_accuracy': 0.8769, 'val_loss': 0.3963},\n",
    "    {'accuracy': 0.0, 'loss': 0.0, 'val_accuracy': 0.0, 'val_loss': 0.0},\n",
    "    {'accuracy': 0.9036, 'loss': 0.2871, 'val_accuracy': 0.8587, 'val_loss': 0.4797},\n",
    "    {'accuracy': 0.0, 'loss': 0.0, 'val_accuracy': 0.0, 'val_loss': 0.0},\n",
    "    {'accuracy': 0.9000, 'loss': 0.3113, 'val_accuracy': 0.8791, 'val_loss': 0.4094},\n",
    "    {'accuracy': 0.0, 'loss': 0.0, 'val_accuracy': 0.0, 'val_loss': 0.0},\n",
    "    {'accuracy': 0.9101, 'loss': 0.2776, 'val_accuracy': 0.8808, 'val_loss': 0.3988},\n",
    "    {'accuracy': 0.0, 'loss': 0.0, 'val_accuracy': 0.0, 'val_loss': 0.0},\n",
    "    {'accuracy': 0.9153, 'loss': 0.2598, 'val_accuracy': 0.9002, 'val_loss': 0.3235},\n",
    "    {'accuracy': 0.0, 'loss': 0.0, 'val_accuracy': 0.0, 'val_loss': 0.0},\n",
    "    {'accuracy': 0.9216, 'loss': 0.2401, 'val_accuracy': 0.8895, 'val_loss': 0.3802},\n",
    "    {'accuracy': 0.0, 'loss': 0.0, 'val_accuracy': 0.0, 'val_loss': 0.0},\n",
    "    {'accuracy': 0.9186, 'loss': 0.2495, 'val_accuracy': 0.8710, 'val_loss': 0.4650},\n",
    "    {'accuracy': 0.0, 'loss': 0.0, 'val_accuracy': 0.0, 'val_loss': 0.0},\n",
    "    {'accuracy': 0.9298, 'loss': 0.2237, 'val_accuracy': 0.8717, 'val_loss': 0.4394},\n",
    "    {'accuracy': 0.0, 'loss': 0.0, 'val_accuracy': 0.0, 'val_loss': 0.0},\n",
    "    {'accuracy': 0.8142, 'loss': 0.5835, 'val_accuracy': 0.8107, 'val_loss': 0.61},\n",
    "    {'accuracy': 0.0, 'loss': 0.0, 'val_accuracy': 0.0, 'val_loss': 0.0},\n",
    "    {'accuracy': 0.8361, 'loss': 0.5031, 'val_accuracy': 0.8099, 'val_loss': 0.63},\n",
    "    {'accuracy': 0.0, 'loss': 0.0, 'val_accuracy': 0.0, 'val_loss': 0.0},\n",
    "    {'accuracy': 0.8544, 'loss': 0.4386, 'val_accuracy': 0.8325, 'val_loss': 0.5448},\n",
    "    {'accuracy': 0.0, 'loss': 0.0, 'val_accuracy': 0.0, 'val_loss': 0.0},\n",
    "    {'accuracy': 0.869, 'loss': 0.4117, 'val_accuracy': 0.8776, 'val_loss': 0.3913},\n",
    "    {'accuracy': 0.0, 'loss': 0.0, 'val_accuracy': 0.0, 'val_loss': 0.0},\n",
    "    {'accuracy': 0.8736, 'loss': 0.391, 'val_accuracy': 0.8212, 'val_loss': 0.6491},\n",
    "    {'accuracy': 0.0, 'loss': 0.0, 'val_accuracy': 0.0, 'val_loss': 0.0},\n",
    "    {'accuracy': 0.8937, 'loss': 0.3321, 'val_accuracy': 0.8519, 'val_loss': 0.4851},\n",
    "    {'accuracy': 0.0, 'loss': 0.0, 'val_accuracy': 0.0, 'val_loss': 0.0},\n",
    "    {'accuracy': 0.8993, 'loss': 0.3139, 'val_accuracy': 0.8712, 'val_loss': 0.4406},\n",
    "    {'accuracy': 0.0, 'loss': 0.0, 'val_accuracy': 0.0, 'val_loss': 0.0},\n",
    "    {'accuracy': 0.9051, 'loss': 0.2876, 'val_accuracy': 0.8641, 'val_loss': 0.4802},\n",
    "    {'accuracy': 0.0, 'loss': 0.0, 'val_accuracy': 0.0, 'val_loss': 0.0},\n",
    "    {'accuracy': 0.9178, 'loss': 0.2597, 'val_accuracy': 0.8753, 'val_loss': 0.4326},\n",
    "    {'accuracy': 0.0, 'loss': 0.0, 'val_accuracy': 0.0, 'val_loss': 0.0},\n",
    "    {'accuracy': 0.9199, 'loss': 0.2479, 'val_accuracy': 0.899, 'val_loss': 0.3336},\n",
    "    {'accuracy': 0.0, 'loss': 0.0, 'val_accuracy': 0.0, 'val_loss': 0.0},\n",
    "    {'accuracy': 0.9223, 'loss': 0.2453, 'val_accuracy': 0.8795, 'val_loss': 0.4199},\n",
    "    {'accuracy': 0.0, 'loss': 0.0, 'val_accuracy': 0.0, 'val_loss': 0.0},\n",
    "    {'accuracy': 0.925, 'loss': 0.2249, 'val_accuracy': 0.8858, 'val_loss': 0.4055},\n",
    "    {'accuracy': 0.0, 'loss': 0.0, 'val_accuracy': 0.0, 'val_loss': 0.0},\n",
    "    {'accuracy': 0.9294, 'loss': 0.2238, 'val_accuracy': 0.8751, 'val_loss': 0.4584},\n",
    "    {'accuracy': 0.0, 'loss': 0.0, 'val_accuracy': 0.0, 'val_loss': 0.0},\n",
    "    {'accuracy': 0.9343, 'loss': 0.2102, 'val_accuracy': 0.9237, 'val_loss': 0.2581},\n",
    "    {'accuracy': 0.0, 'loss': 0.0, 'val_accuracy': 0.0, 'val_loss': 0.0},\n",
    "    {'accuracy': 0.9377, 'loss': 0.1929, 'val_accuracy': 0.8983, 'val_loss': 0.395},\n",
    "    {'accuracy': 0.0, 'loss': 0.0, 'val_accuracy': 0.0, 'val_loss': 0.0},\n",
    "    {'accuracy': 0.936, 'loss': 0.201, 'val_accuracy': 0.8753, 'val_loss': 0.487},\n",
    "    {'accuracy': 0.0, 'loss': 0.0, 'val_accuracy': 0.0, 'val_loss': 0.0},\n",
    "    {'accuracy': 0.9424, 'loss': 0.189, 'val_accuracy': 0.894, 'val_loss': 0.4014},\n",
    "    {'accuracy': 0.0, 'loss': 0.0, 'val_accuracy': 0.0, 'val_loss': 0.0},\n",
    "    {'accuracy': 0.9352, 'loss': 0.2016, 'val_accuracy': 0.9042, 'val_loss': 0.3474},\n",
    "    {'accuracy': 0.0, 'loss': 0.0, 'val_accuracy': 0.0, 'val_loss': 0.0},\n",
    "    {'accuracy': 0.9441, 'loss': 0.1753, 'val_accuracy': 0.8904, 'val_loss': 0.4027},\n",
    "    {'accuracy': 0.0, 'loss': 0.0, 'val_accuracy': 0.0, 'val_loss': 0.0},\n",
    "    {'accuracy': 0.942, 'loss': 0.1753, 'val_accuracy': 0.9056, 'val_loss': 0.3208},\n",
    "    {'accuracy': 0.0, 'loss': 0.0, 'val_accuracy': 0.0, 'val_loss': 0.0},\n",
    "    {'accuracy': 0.9517, 'loss': 0.1498, 'val_accuracy': 0.9178, 'val_loss': 0.3063},\n",
    "    {'accuracy': 0.0, 'loss': 0.0, 'val_accuracy': 0.0, 'val_loss': 0.0},\n",
    "    {'accuracy': 0.9463, 'loss': 0.1673, 'val_accuracy': 0.8722, 'val_loss': 0.5131},\n",
    "    {'accuracy': 0.0, 'loss': 0.0, 'val_accuracy': 0.0, 'val_loss': 0.0},\n",
    "    {'accuracy': 0.9527, 'loss': 0.1484, 'val_accuracy': 0.9106, 'val_loss': 0.3406},\n",
    "    {'accuracy': 0.0, 'loss': 0.0, 'val_accuracy': 0.0, 'val_loss': 0.0},\n",
    "    {'accuracy': 0.9494, 'loss': 0.1585, 'val_accuracy': 0.9179, 'val_loss': 0.3269},\n",
    "    {'accuracy': 0.0, 'loss': 0.0, 'val_accuracy': 0.0, 'val_loss': 0.0},\n",
    "    {'accuracy': 0.9509, 'loss': 0.1498, 'val_accuracy': 0.9031, 'val_loss': 0.3731},\n",
    "    {'accuracy': 0.0, 'loss': 0.0, 'val_accuracy': 0.0, 'val_loss': 0.0},\n",
    "    {'accuracy': 0.9545, 'loss': 0.1476, 'val_accuracy': 0.9079, 'val_loss': 0.4174},\n",
    "    {'accuracy': 0.0, 'loss': 0.0, 'val_accuracy': 0.0, 'val_loss': 0.0},\n",
    "    {'accuracy': 0.9588, 'loss': 0.1378, 'val_accuracy': 0.8424, 'val_loss': 0.8623},\n",
    "    {'accuracy': 0.0, 'loss': 0.0, 'val_accuracy': 0.0, 'val_loss': 0.0},\n",
    "    {'accuracy': 0.9596, 'loss': 0.1398, 'val_accuracy': 0.9089, 'val_loss': 0.4975},\n",
    "    {'accuracy': 0.0, 'loss': 0.0, 'val_accuracy': 0.0, 'val_loss': 0.0},\n",
    "    {'accuracy': 0.9612, 'loss': 0.1359, 'val_accuracy': 0.9171, 'val_loss': 0.4250},\n",
    "    {'accuracy': 0.0, 'loss': 0.0, 'val_accuracy': 0.0, 'val_loss': 0.0},\n",
    "    {'accuracy': 0.9604, 'loss': 0.1587, 'val_accuracy': 0.9144, 'val_loss': 0.4747},\n",
    "    {'accuracy': 0.0, 'loss': 0.0, 'val_accuracy': 0.0, 'val_loss': 0.0}\n",
    "\n",
    "]\n",
    "\n",
    "import matplotlib.pyplot as plt\n",
    "\n",
    "def plot_accuracy_from_epochs(epoch_data):\n",
    "    training_accuracy = []\n",
    "    validation_accuracy = []\n",
    "    \n",
    "    for epoch in epoch_data:\n",
    "        training_acc = epoch['accuracy']\n",
    "        val_acc = epoch['val_accuracy']\n",
    "        \n",
    "        if training_acc != 0.0 and val_acc != 0.0:\n",
    "            training_accuracy.append(training_acc)\n",
    "            validation_accuracy.append(val_acc)\n",
    "\n",
    "    epochs = range(1, len(training_accuracy) + 1)\n",
    "\n",
    "    plt.plot(epochs, training_accuracy, label='Training Accuracy', marker='o')\n",
    "    plt.plot(epochs, validation_accuracy, label='Validation Accuracy', marker='o')\n",
    "\n",
    "    plt.title('Accuracy vs. Epochs')\n",
    "    plt.xlabel('Epochs')\n",
    "    plt.ylabel('Accuracy')\n",
    "    plt.grid(True)\n",
    "    plt.legend()\n",
    "    plt.show()\n",
    "\n",
    "plot_accuracy_from_epochs(epoch_data)"
   ]
  }
 ],
 "metadata": {
  "kernelspec": {
   "display_name": "Python 3",
   "language": "python",
   "name": "python3"
  },
  "language_info": {
   "codemirror_mode": {
    "name": "ipython",
    "version": 3
   },
   "file_extension": ".py",
   "mimetype": "text/x-python",
   "name": "python",
   "nbconvert_exporter": "python",
   "pygments_lexer": "ipython3",
   "version": "3.11.8"
  }
 },
 "nbformat": 4,
 "nbformat_minor": 2
}
