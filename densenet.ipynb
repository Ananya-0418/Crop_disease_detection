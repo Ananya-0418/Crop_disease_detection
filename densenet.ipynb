{
 "cells": [
  {
   "cell_type": "code",
   "execution_count": 1,
   "metadata": {},
   "outputs": [],
   "source": [
    "import numpy as np\n",
    "from tensorflow.keras.preprocessing.image import ImageDataGenerator\n",
    "from keras.models import Sequential\n",
    "from keras.layers import Dense, Dropout\n",
    "from keras.optimizers import Adam\n",
    "from keras.applications import DenseNet121\n",
    "from keras.callbacks import EarlyStopping"
   ]
  },
  {
   "cell_type": "code",
   "execution_count": 2,
   "metadata": {},
   "outputs": [
    {
     "name": "stdout",
     "output_type": "stream",
     "text": [
      "Found 17482 images belonging to 38 classes.\n"
     ]
    }
   ],
   "source": [
    "image_size = (224, 224)\n",
    "batch_size = 32\n",
    "num_classes = 38  \n",
    "validation_split = 0.2\n",
    "train_dir = \"train\"  \n",
    "test_dir = \"test\"\n",
    "\n",
    "train_datagen = ImageDataGenerator(\n",
    "    rescale=1./255,\n",
    "    validation_split=validation_split,\n",
    "    shear_range=0.2,\n",
    "    zoom_range=0.2,\n",
    "    horizontal_flip=True\n",
    ")\n",
    "\n",
    "train_generator = train_datagen.flow_from_directory(\n",
    "    train_dir,\n",
    "    target_size=image_size,\n",
    "    batch_size=batch_size,\n",
    "    class_mode='categorical',\n",
    "    subset='training'  \n",
    ")\n"
   ]
  },
  {
   "cell_type": "code",
   "execution_count": 3,
   "metadata": {},
   "outputs": [
    {
     "name": "stdout",
     "output_type": "stream",
     "text": [
      "Found 17572 images belonging to 38 classes.\n"
     ]
    }
   ],
   "source": [
    "test_datagen = ImageDataGenerator(rescale=1./255)\n",
    "\n",
    "test_generator = test_datagen.flow_from_directory(\n",
    "    test_dir,\n",
    "    target_size=image_size,\n",
    "    batch_size=batch_size,\n",
    "    class_mode='categorical',\n",
    "    shuffle=False\n",
    ")"
   ]
  },
  {
   "cell_type": "code",
   "execution_count": 4,
   "metadata": {},
   "outputs": [
    {
     "name": "stdout",
     "output_type": "stream",
     "text": [
      "Downloading data from https://storage.googleapis.com/tensorflow/keras-applications/densenet/densenet121_weights_tf_dim_ordering_tf_kernels_notop.h5\n",
      "\u001b[1m29084464/29084464\u001b[0m \u001b[32m━━━━━━━━━━━━━━━━━━━━\u001b[0m\u001b[37m\u001b[0m \u001b[1m5s\u001b[0m 0us/step\n"
     ]
    }
   ],
   "source": [
    "# Load pre-trained DenseNet121 model without the top (fully connected) layers\n",
    "base_model = DenseNet121(weights='imagenet', include_top=False, input_shape=(224, 224, 3))\n",
    "\n",
    "# Freeze the base model layers\n",
    "for layer in base_model.layers:\n",
    "    layer.trainable = False"
   ]
  },
  {
   "cell_type": "code",
   "execution_count": 9,
   "metadata": {},
   "outputs": [],
   "source": [
    "from keras.layers import GlobalAveragePooling2D\n",
    "model = Sequential()\n",
    "model.add(base_model)\n",
    "model.add(GlobalAveragePooling2D())\n",
    "model.add(Dense(512, activation='relu'))\n",
    "model.add(Dropout(0.5))\n",
    "model.add(Dense(num_classes, activation='softmax'))"
   ]
  },
  {
   "cell_type": "code",
   "execution_count": 11,
   "metadata": {},
   "outputs": [],
   "source": [
    "opt = Adam(learning_rate=1e-3)\n",
    "model.compile(optimizer=opt, loss=\"categorical_crossentropy\", metrics=[\"accuracy\"])\n",
    "\n",
    "# Early stopping callback to prevent overfitting\n",
    "early_stopping = EarlyStopping(monitor='val_loss', patience=5, restore_best_weights=True)\n"
   ]
  },
  {
   "cell_type": "code",
   "execution_count": 12,
   "metadata": {},
   "outputs": [
    {
     "name": "stdout",
     "output_type": "stream",
     "text": [
      "Epoch 1/40\n"
     ]
    },
    {
     "name": "stderr",
     "output_type": "stream",
     "text": [
      "c:\\Users\\hp\\Downloads\\leafdataset\\.conda\\Lib\\site-packages\\keras\\src\\trainers\\data_adapters\\py_dataset_adapter.py:120: UserWarning: Your `PyDataset` class should call `super().__init__(**kwargs)` in its constructor. `**kwargs` can include `workers`, `use_multiprocessing`, `max_queue_size`. Do not pass these arguments to `fit()`, as they will be ignored.\n",
      "  self._warn_if_super_not_called()\n"
     ]
    },
    {
     "name": "stdout",
     "output_type": "stream",
     "text": [
      "\u001b[1m547/547\u001b[0m \u001b[32m━━━━━━━━━━━━━━━━━━━━\u001b[0m\u001b[37m\u001b[0m \u001b[1m3854s\u001b[0m 7s/step - accuracy: 0.5038 - loss: 1.8494 - val_accuracy: 0.8749 - val_loss: 0.4159\n",
      "Epoch 2/40\n"
     ]
    },
    {
     "name": "stderr",
     "output_type": "stream",
     "text": [
      "c:\\Users\\hp\\Downloads\\leafdataset\\.conda\\Lib\\contextlib.py:158: UserWarning: Your input ran out of data; interrupting training. Make sure that your dataset or generator can generate at least `steps_per_epoch * epochs` batches. You may need to use the `.repeat()` function when building your dataset.\n",
      "  self.gen.throw(typ, value, traceback)\n"
     ]
    },
    {
     "name": "stdout",
     "output_type": "stream",
     "text": [
      "\u001b[1m547/547\u001b[0m \u001b[32m━━━━━━━━━━━━━━━━━━━━\u001b[0m\u001b[37m\u001b[0m \u001b[1m2s\u001b[0m 4ms/step - accuracy: 0.0000e+00 - loss: 0.0000e+00 - val_accuracy: 0.0000e+00 - val_loss: 0.0000e+00\n",
      "Epoch 3/40\n",
      "\u001b[1m547/547\u001b[0m \u001b[32m━━━━━━━━━━━━━━━━━━━━\u001b[0m\u001b[37m\u001b[0m \u001b[1m3280s\u001b[0m 6s/step - accuracy: 0.8441 - loss: 0.4832 - val_accuracy: 0.9004 - val_loss: 0.3042\n",
      "Epoch 4/40\n",
      "\u001b[1m547/547\u001b[0m \u001b[32m━━━━━━━━━━━━━━━━━━━━\u001b[0m\u001b[37m\u001b[0m \u001b[1m0s\u001b[0m 646us/step - accuracy: 0.0000e+00 - loss: 0.0000e+00 - val_accuracy: 0.0000e+00 - val_loss: 0.0000e+00\n",
      "Epoch 5/40\n",
      "\u001b[1m547/547\u001b[0m \u001b[32m━━━━━━━━━━━━━━━━━━━━\u001b[0m\u001b[37m\u001b[0m \u001b[1m2901s\u001b[0m 5s/step - accuracy: 0.8793 - loss: 0.3670 - val_accuracy: 0.9204 - val_loss: 0.2488\n",
      "Epoch 6/40\n",
      "\u001b[1m547/547\u001b[0m \u001b[32m━━━━━━━━━━━━━━━━━━━━\u001b[0m\u001b[37m\u001b[0m \u001b[1m0s\u001b[0m 904us/step - accuracy: 0.0000e+00 - loss: 0.0000e+00 - val_accuracy: 0.0000e+00 - val_loss: 0.0000e+00\n",
      "Epoch 7/40\n",
      "\u001b[1m547/547\u001b[0m \u001b[32m━━━━━━━━━━━━━━━━━━━━\u001b[0m\u001b[37m\u001b[0m \u001b[1m2815s\u001b[0m 5s/step - accuracy: 0.8947 - loss: 0.3234 - val_accuracy: 0.9306 - val_loss: 0.2139\n"
     ]
    }
   ],
   "source": [
    "try:\n",
    "    history = model.fit(\n",
    "        train_generator,\n",
    "        steps_per_epoch=len(train_generator),\n",
    "        epochs=40,\n",
    "        validation_data=test_generator,\n",
    "        validation_steps=len(test_generator),\n",
    "        callbacks=[early_stopping]\n",
    "    )\n",
    "except Exception as e:\n",
    "    print(\"An error occurred during training:\", e)\n",
    "    raise"
   ]
  },
  {
   "cell_type": "code",
   "execution_count": 14,
   "metadata": {},
   "outputs": [
    {
     "name": "stdout",
     "output_type": "stream",
     "text": [
      "Epoch 1/10\n",
      "\u001b[1m547/547\u001b[0m \u001b[32m━━━━━━━━━━━━━━━━━━━━\u001b[0m\u001b[37m\u001b[0m \u001b[1m1878s\u001b[0m 3s/step - accuracy: 0.8321 - loss: 0.5240 - val_accuracy: 0.9106 - val_loss: 0.2843\n",
      "Epoch 2/10\n",
      "\u001b[1m547/547\u001b[0m \u001b[32m━━━━━━━━━━━━━━━━━━━━\u001b[0m\u001b[37m\u001b[0m \u001b[1m0s\u001b[0m 157us/step - accuracy: 0.0000e+00 - loss: 0.0000e+00 - val_accuracy: 0.0000e+00 - val_loss: 0.0000e+00\n",
      "Epoch 3/10\n",
      "\u001b[1m547/547\u001b[0m \u001b[32m━━━━━━━━━━━━━━━━━━━━\u001b[0m\u001b[37m\u001b[0m \u001b[1m1329s\u001b[0m 2s/step - accuracy: 0.8743 - loss: 0.3768 - val_accuracy: 0.9079 - val_loss: 0.2671\n",
      "Epoch 4/10\n",
      "\u001b[1m547/547\u001b[0m \u001b[32m━━━━━━━━━━━━━━━━━━━━\u001b[0m\u001b[37m\u001b[0m \u001b[1m0s\u001b[0m 160us/step - accuracy: 0.0000e+00 - loss: 0.0000e+00 - val_accuracy: 0.0000e+00 - val_loss: 0.0000e+00\n",
      "Epoch 5/10\n",
      "\u001b[1m547/547\u001b[0m \u001b[32m━━━━━━━━━━━━━━━━━━━━\u001b[0m\u001b[37m\u001b[0m \u001b[1m1299s\u001b[0m 2s/step - accuracy: 0.8955 - loss: 0.3180 - val_accuracy: 0.9248 - val_loss: 0.2290\n"
     ]
    }
   ],
   "source": [
    "try:\n",
    "    history = model.fit(\n",
    "        train_generator,\n",
    "        steps_per_epoch=len(train_generator),\n",
    "        epochs=10,\n",
    "        validation_data=test_generator,\n",
    "        validation_steps=len(test_generator),\n",
    "        callbacks=[early_stopping]\n",
    "    )\n",
    "except Exception as e:\n",
    "    print(\"An error occurred during training:\", e)\n",
    "    raise"
   ]
  },
  {
   "cell_type": "code",
   "execution_count": 15,
   "metadata": {},
   "outputs": [
    {
     "name": "stdout",
     "output_type": "stream",
     "text": [
      "Epoch 1/10\n",
      "\u001b[1m547/547\u001b[0m \u001b[32m━━━━━━━━━━━━━━━━━━━━\u001b[0m\u001b[37m\u001b[0m \u001b[1m1797s\u001b[0m 3s/step - accuracy: 0.8719 - loss: 0.3872 - val_accuracy: 0.9183 - val_loss: 0.2471\n",
      "Epoch 2/10\n",
      "\u001b[1m547/547\u001b[0m \u001b[32m━━━━━━━━━━━━━━━━━━━━\u001b[0m\u001b[37m\u001b[0m \u001b[1m0s\u001b[0m 260us/step - accuracy: 0.0000e+00 - loss: 0.0000e+00 - val_accuracy: 0.0000e+00 - val_loss: 0.0000e+00\n",
      "Epoch 3/10\n",
      "\u001b[1m547/547\u001b[0m \u001b[32m━━━━━━━━━━━━━━━━━━━━\u001b[0m\u001b[37m\u001b[0m \u001b[1m1721s\u001b[0m 3s/step - accuracy: 0.8944 - loss: 0.3219 - val_accuracy: 0.9223 - val_loss: 0.2374\n",
      "Epoch 4/10\n",
      "\u001b[1m547/547\u001b[0m \u001b[32m━━━━━━━━━━━━━━━━━━━━\u001b[0m\u001b[37m\u001b[0m \u001b[1m0s\u001b[0m 154us/step - accuracy: 0.0000e+00 - loss: 0.0000e+00 - val_accuracy: 0.0000e+00 - val_loss: 0.0000e+00\n",
      "Epoch 5/10\n",
      "\u001b[1m547/547\u001b[0m \u001b[32m━━━━━━━━━━━━━━━━━━━━\u001b[0m\u001b[37m\u001b[0m \u001b[1m1627s\u001b[0m 3s/step - accuracy: 0.9046 - loss: 0.2885 - val_accuracy: 0.9120 - val_loss: 0.2538\n"
     ]
    }
   ],
   "source": [
    "try:\n",
    "    history = model.fit(\n",
    "        train_generator,\n",
    "        steps_per_epoch=len(train_generator),\n",
    "        epochs=10,\n",
    "        validation_data=test_generator,\n",
    "        validation_steps=len(test_generator),\n",
    "        callbacks=[early_stopping]\n",
    "    )\n",
    "except Exception as e:\n",
    "    print(\"An error occurred during training:\", e)\n",
    "    raise"
   ]
  },
  {
   "cell_type": "code",
   "execution_count": 19,
   "metadata": {},
   "outputs": [
    {
     "name": "stdout",
     "output_type": "stream",
     "text": [
      "Epoch 1/5\n",
      "\u001b[1m547/547\u001b[0m \u001b[32m━━━━━━━━━━━━━━━━━━━━\u001b[0m\u001b[37m\u001b[0m \u001b[1m1680s\u001b[0m 3s/step - accuracy: 0.8918 - loss: 0.3233 - val_accuracy: 0.9145 - val_loss: 0.2523\n",
      "Epoch 2/5\n"
     ]
    },
    {
     "name": "stderr",
     "output_type": "stream",
     "text": [
      "c:\\Users\\hp\\Downloads\\leafdataset\\.conda\\Lib\\contextlib.py:158: UserWarning: Your input ran out of data; interrupting training. Make sure that your dataset or generator can generate at least `steps_per_epoch * epochs` batches. You may need to use the `.repeat()` function when building your dataset.\n",
      "  self.gen.throw(typ, value, traceback)\n"
     ]
    },
    {
     "name": "stdout",
     "output_type": "stream",
     "text": [
      "\u001b[1m547/547\u001b[0m \u001b[32m━━━━━━━━━━━━━━━━━━━━\u001b[0m\u001b[37m\u001b[0m \u001b[1m0s\u001b[0m 487us/step - accuracy: 0.0000e+00 - loss: 0.0000e+00 - val_accuracy: 0.0000e+00 - val_loss: 0.0000e+00\n",
      "Epoch 3/5\n",
      "\u001b[1m547/547\u001b[0m \u001b[32m━━━━━━━━━━━━━━━━━━━━\u001b[0m\u001b[37m\u001b[0m \u001b[1m1639s\u001b[0m 3s/step - accuracy: 0.9041 - loss: 0.2849 - val_accuracy: 0.9293 - val_loss: 0.2079\n",
      "Epoch 4/5\n",
      "\u001b[1m547/547\u001b[0m \u001b[32m━━━━━━━━━━━━━━━━━━━━\u001b[0m\u001b[37m\u001b[0m \u001b[1m0s\u001b[0m 203us/step - accuracy: 0.0000e+00 - loss: 0.0000e+00 - val_accuracy: 0.0000e+00 - val_loss: 0.0000e+00\n",
      "Epoch 5/5\n",
      "\u001b[1m547/547\u001b[0m \u001b[32m━━━━━━━━━━━━━━━━━━━━\u001b[0m\u001b[37m\u001b[0m \u001b[1m1524s\u001b[0m 3s/step - accuracy: 0.9130 - loss: 0.2557 - val_accuracy: 0.9221 - val_loss: 0.2225\n"
     ]
    }
   ],
   "source": [
    "try:\n",
    "    history = model.fit(\n",
    "        train_generator,\n",
    "        steps_per_epoch=len(train_generator),\n",
    "        epochs=5,\n",
    "        validation_data=test_generator,\n",
    "        validation_steps=len(test_generator),\n",
    "        callbacks=[early_stopping]\n",
    "    )\n",
    "except Exception as e:\n",
    "    print(\"An error occurred during training:\", e)\n",
    "    raise"
   ]
  },
  {
   "cell_type": "code",
   "execution_count": 20,
   "metadata": {},
   "outputs": [
    {
     "name": "stdout",
     "output_type": "stream",
     "text": [
      "\u001b[1m550/550\u001b[0m \u001b[32m━━━━━━━━━━━━━━━━━━━━\u001b[0m\u001b[37m\u001b[0m \u001b[1m664s\u001b[0m 1s/step - accuracy: 0.9496 - loss: 0.1462\n",
      "Test Accuracy: 0.9145231246948242\n"
     ]
    }
   ],
   "source": [
    "# Evaluate the model on the test data\n",
    "loss, accuracy = model.evaluate(test_generator)\n",
    "# Print the accuracy\n",
    "print(\"Test Accuracy:\", accuracy)"
   ]
  },
  {
   "cell_type": "code",
   "execution_count": 18,
   "metadata": {},
   "outputs": [
    {
     "name": "stdout",
     "output_type": "stream",
     "text": [
      "Test Accuracy for DenseNet : 91.83359742164612\n"
     ]
    }
   ],
   "source": [
    "print(\"Test Accuracy for DenseNet :\", accuracy*100)"
   ]
  },
  {
   "cell_type": "code",
   "execution_count": 22,
   "metadata": {},
   "outputs": [
    {
     "data": {
      "image/png": "[encoded data removed]",
      "text/plain": [
       "<Figure size 640x480 with 1 Axes>"
      ]
     },
     "metadata": {},
     "output_type": "display_data"
    }
   ],
   "source": [
    "import matplotlib.pyplot as plt\n",
    "\n",
    "# Define the epoch data\n",
    "epoch_data = [\n",
    "    \n",
    "    {'accuracy': 0.5038, 'loss': 1.8494, 'val_accuracy': 0.8749, 'val_loss': 0.4159},\n",
    "    {'accuracy': 0.0, 'loss': 0.0, 'val_accuracy': 0.0, 'val_loss': 0.0},\n",
    "    {'accuracy': 0.8441, 'loss': 0.4832, 'val_accuracy': 0.9004, 'val_loss': 0.3042},\n",
    "    {'accuracy': 0.0, 'loss': 0.0, 'val_accuracy': 0.0, 'val_loss': 0.0},\n",
    "    {'accuracy': 0.8793, 'loss': 0.3670, 'val_accuracy': 0.9204, 'val_loss': 0.2488},\n",
    "    {'accuracy': 0.0, 'loss': 0.0, 'val_accuracy': 0.0, 'val_loss': 0.0},\n",
    "    {'accuracy': 0.8947, 'loss': 0.3234, 'val_accuracy': 0.9306, 'val_loss': 0.2139},\n",
    "    {'accuracy': 0.8321, 'loss': 0.5240, 'val_accuracy': 0.9106, 'val_loss': 0.2843},\n",
    "    {'accuracy': 0.0, 'loss': 0.0, 'val_accuracy': 0.0, 'val_loss': 0.0},\n",
    "    {'accuracy': 0.8743, 'loss': 0.3768, 'val_accuracy': 0.9079, 'val_loss': 0.2671},\n",
    "    {'accuracy': 0.0, 'loss': 0.0, 'val_accuracy': 0.0, 'val_loss': 0.0},\n",
    "    {'accuracy': 0.8955, 'loss': 0.3180, 'val_accuracy': 0.9248, 'val_loss': 0.2290},\n",
    "    {'accuracy': 0.8719, 'loss': 0.3872, 'val_accuracy': 0.9183, 'val_loss': 0.2471},\n",
    "    {'accuracy': 0.0, 'loss': 0.0, 'val_accuracy': 0.0, 'val_loss': 0.0},\n",
    "    {'accuracy': 0.8944, 'loss': 0.3219, 'val_accuracy': 0.9223, 'val_loss': 0.2374},\n",
    "    {'accuracy': 0.0, 'loss': 0.0, 'val_accuracy': 0.0, 'val_loss': 0.0},\n",
    "    {'accuracy': 0.9046, 'loss': 0.2885, 'val_accuracy': 0.9120, 'val_loss': 0.2538},\n",
    "    {'accuracy': 0.8918, 'loss': 0.3233, 'val_accuracy': 0.9145, 'val_loss': 0.2523},\n",
    "    {'accuracy': 0.0, 'loss': 0.0, 'val_accuracy': 0.0, 'val_loss': 0.0},\n",
    "    {'accuracy': 0.9041, 'loss': 0.2849, 'val_accuracy': 0.9293, 'val_loss': 0.2079},\n",
    "    {'accuracy': 0.0, 'loss': 0.0, 'val_accuracy': 0.0, 'val_loss': 0.0},\n",
    "    {'accuracy': 0.9130, 'loss': 0.2557, 'val_accuracy': 0.9221, 'val_loss': 0.2225}\n",
    "]\n",
    "def plot_accuracy_from_epochs(epoch_data):\n",
    "    training_accuracy = []\n",
    "    validation_accuracy = []\n",
    "    \n",
    "    for epoch in epoch_data:\n",
    "        training_acc = epoch['accuracy']\n",
    "        val_acc = epoch['val_accuracy']\n",
    "        \n",
    "        if training_acc != 0.0 and val_acc != 0.0:\n",
    "            training_accuracy.append(training_acc)\n",
    "            validation_accuracy.append(val_acc)\n",
    "\n",
    "    epochs = range(1, len(training_accuracy) + 1)\n",
    "\n",
    "    plt.plot(epochs, training_accuracy, label='Training Accuracy', marker='o')\n",
    "    plt.plot(epochs, validation_accuracy, label='Validation Accuracy', marker='o')\n",
    "\n",
    "    plt.title('Accuracy vs. Epochs')\n",
    "    plt.xlabel('Epochs')\n",
    "    plt.ylabel('Accuracy')\n",
    "    plt.grid(True)\n",
    "    plt.legend()\n",
    "    plt.show()\n",
    "\n",
    "plot_accuracy_from_epochs(epoch_data)"
   ]
  },
  {
   "cell_type": "code",
   "execution_count": 26,
   "metadata": {},
   "outputs": [
    {
     "name": "stdout",
     "output_type": "stream",
     "text": [
      "Model saved successfully at saved_models/modeldensenet.keras\n"
     ]
    }
   ],
   "source": [
    "\n",
    "model_path = \"saved_models/modeldensenet.keras\"\n",
    "model.save(model_path)\n",
    "print(\"Model saved successfully at\", model_path)\n"
   ]
  }
 ],
 "metadata": {
  "kernelspec": {
   "display_name": "Python 3",
   "language": "python",
   "name": "python3"
  },
  "language_info": {
   "codemirror_mode": {
    "name": "ipython",
    "version": 3
   },
   "file_extension": ".py",
   "mimetype": "text/x-python",
   "name": "python",
   "nbconvert_exporter": "python",
   "pygments_lexer": "ipython3",
   "version": "3.11.8"
  }
 },
 "nbformat": 4,
 "nbformat_minor": 2
}
